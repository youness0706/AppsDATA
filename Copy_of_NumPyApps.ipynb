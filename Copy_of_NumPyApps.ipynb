{
  "metadata": {
    "kernelspec": {
      "name": "python",
      "display_name": "Python (Pyodide)",
      "language": "python"
    },
    "language_info": {
      "codemirror_mode": {
        "name": "python",
        "version": 3
      },
      "file_extension": ".py",
      "mimetype": "text/x-python",
      "name": "python",
      "nbconvert_exporter": "python",
      "pygments_lexer": "ipython3",
      "version": "3.8"
    },
    "colab": {
      "provenance": [],
      "include_colab_link": true
    }
  },
  "nbformat_minor": 0,
  "nbformat": 4,
  "cells": [
    {
      "cell_type": "markdown",
      "metadata": {
        "id": "view-in-github",
        "colab_type": "text"
      },
      "source": [
        "<a href=\"https://colab.research.google.com/github/youness0706/AppsDATA/blob/main/Copy_of_NumPyApps.ipynb\" target=\"_parent\"><img src=\"https://colab.research.google.com/assets/colab-badge.svg\" alt=\"Open In Colab\"/></a>"
      ]
    },
    {
      "cell_type": "markdown",
      "source": [
        "<p style=\"text-align:center\">\n",
        "    <img src=\"attachment:aecdb6fe-95ae-44d9-8cc9-de83ccf69498.png\" width=\"200\" alt=\"Apps Club Logo\">\n",
        "</p>\n",
        "\n",
        "\n",
        "# NumPy  - Numerical Python"
      ],
      "metadata": {
        "id": "OH8PkHoFfCRC"
      }
    },
    {
      "cell_type": "markdown",
      "source": [
        "### Importing Numpy"
      ],
      "metadata": {
        "id": "CfJ9hwKgfCRI"
      }
    },
    {
      "cell_type": "code",
      "source": [
        "import numpy as np"
      ],
      "metadata": {
        "trusted": true,
        "id": "4gUUefqxfCRK"
      },
      "outputs": [],
      "execution_count": null
    },
    {
      "cell_type": "markdown",
      "source": [
        "### Create NumPy arrays\n",
        "\n",
        "- 1D array :"
      ],
      "metadata": {
        "id": "qIABiG1nfCRL"
      }
    },
    {
      "cell_type": "code",
      "source": [
        "a=np.array([1,2,3,4,5,6])\n"
      ],
      "metadata": {
        "id": "2paaxcwBkFoZ"
      },
      "execution_count": null,
      "outputs": []
    },
    {
      "cell_type": "code",
      "source": [
        "np.array([1,8,6,9,7,2])"
      ],
      "metadata": {
        "trusted": true,
        "colab": {
          "base_uri": "https://localhost:8080/"
        },
        "id": "X8uC-hQtfCRN",
        "outputId": "c6d3ac62-5a15-4f8e-ec90-a941c45f2334"
      },
      "outputs": [
        {
          "output_type": "execute_result",
          "data": {
            "text/plain": [
              "array([1, 8, 6, 9, 7, 2])"
            ]
          },
          "metadata": {},
          "execution_count": 12
        }
      ],
      "execution_count": null
    },
    {
      "cell_type": "markdown",
      "source": [
        "- 2D array:"
      ],
      "metadata": {
        "id": "Wx5b09GKfCRO"
      }
    },
    {
      "cell_type": "code",
      "source": [
        "b=np.array([[7,56,7,9],[87,8,6,9]])"
      ],
      "metadata": {
        "trusted": true,
        "id": "p-_gftm6fCRP"
      },
      "outputs": [],
      "execution_count": null
    },
    {
      "cell_type": "code",
      "source": [
        "a.size"
      ],
      "metadata": {
        "trusted": true,
        "colab": {
          "base_uri": "https://localhost:8080/"
        },
        "id": "NMo5MMTZfCRQ",
        "outputId": "7580aee2-ec4f-4211-9537-ac9427f1ad3d"
      },
      "outputs": [
        {
          "output_type": "execute_result",
          "data": {
            "text/plain": [
              "6"
            ]
          },
          "metadata": {},
          "execution_count": 9
        }
      ],
      "execution_count": null
    },
    {
      "cell_type": "markdown",
      "source": [
        "### Array Attribute\n",
        "\n",
        "The attribute <code>size</code> is the number of elements in the array:\n"
      ],
      "metadata": {
        "id": "6ZsRjcyBfCRP"
      }
    },
    {
      "cell_type": "markdown",
      "source": [
        "The attribute <code>ndim</code> represents the number of array dimensions, or the rank of the array. In this case, one:\n"
      ],
      "metadata": {
        "id": "1lVLS1ljfCRR"
      }
    },
    {
      "cell_type": "code",
      "source": [
        "a.ndim"
      ],
      "metadata": {
        "trusted": true,
        "colab": {
          "base_uri": "https://localhost:8080/"
        },
        "id": "4N5RJUS_fCRS",
        "outputId": "7b00e7fb-564d-4da7-d198-413a94cfbf4d"
      },
      "outputs": [
        {
          "output_type": "execute_result",
          "data": {
            "text/plain": [
              "1"
            ]
          },
          "metadata": {},
          "execution_count": 14
        }
      ],
      "execution_count": null
    },
    {
      "cell_type": "markdown",
      "source": [
        "The attribute <code>shape</code> is a tuple of integers indicating the size of the array in each dimension:\n"
      ],
      "metadata": {
        "id": "zmJM527yfCRS"
      }
    },
    {
      "cell_type": "code",
      "source": [
        "a.shape"
      ],
      "metadata": {
        "trusted": true,
        "colab": {
          "base_uri": "https://localhost:8080/"
        },
        "id": "moYIwQZpfCRT",
        "outputId": "2387fcaf-2dab-458b-cbfe-51b0138f23aa"
      },
      "outputs": [
        {
          "output_type": "execute_result",
          "data": {
            "text/plain": [
              "(6,)"
            ]
          },
          "metadata": {},
          "execution_count": 15
        }
      ],
      "execution_count": null
    },
    {
      "cell_type": "markdown",
      "source": [
        "### Slicing\n",
        "\n",
        "We pass slice like this: [start:end].The element at end index is not being included in the output."
      ],
      "metadata": {
        "id": "cG73xz9EfCRT"
      }
    },
    {
      "cell_type": "code",
      "source": [
        "print(a[0:0])"
      ],
      "metadata": {
        "trusted": true,
        "colab": {
          "base_uri": "https://localhost:8080/"
        },
        "id": "o73NfcrxfCRU",
        "outputId": "bf6ee3f2-63e4-4815-84d2-aa0efbfce79a"
      },
      "outputs": [
        {
          "output_type": "stream",
          "name": "stdout",
          "text": [
            "[]\n"
          ]
        }
      ],
      "execution_count": null
    },
    {
      "cell_type": "code",
      "source": [
        "print(a[0:2])"
      ],
      "metadata": {
        "trusted": true,
        "id": "uRU_1zROfCRU",
        "colab": {
          "base_uri": "https://localhost:8080/"
        },
        "outputId": "6f0c64ea-3379-4f83-bbed-7b51bb1c1241"
      },
      "outputs": [
        {
          "output_type": "stream",
          "name": "stdout",
          "text": [
            "[1 2]\n"
          ]
        }
      ],
      "execution_count": null
    },
    {
      "cell_type": "code",
      "source": [
        "print(b[1:,1:])"
      ],
      "metadata": {
        "trusted": true,
        "id": "_784uaepfCRU",
        "colab": {
          "base_uri": "https://localhost:8080/"
        },
        "outputId": "1924e767-df92-411b-dd38-919d3f1dbb58"
      },
      "outputs": [
        {
          "output_type": "stream",
          "name": "stdout",
          "text": [
            "[[8 6 9]]\n"
          ]
        }
      ],
      "execution_count": null
    },
    {
      "cell_type": "markdown",
      "source": [
        "We can also define the steps in slicing, like this: [start:end:step]."
      ],
      "metadata": {
        "id": "Z_YSev56fCRV"
      }
    },
    {
      "cell_type": "code",
      "source": [
        "print(a[0:4:2])\n"
      ],
      "metadata": {
        "trusted": true,
        "id": "N8jbekltfCRV",
        "colab": {
          "base_uri": "https://localhost:8080/"
        },
        "outputId": "151db4cc-26eb-4916-ec16-02a207ed2042"
      },
      "outputs": [
        {
          "output_type": "stream",
          "name": "stdout",
          "text": [
            "[1 3]\n"
          ]
        }
      ],
      "execution_count": null
    },
    {
      "cell_type": "markdown",
      "source": [
        "If we don't pass start its considered 0 [:end]"
      ],
      "metadata": {
        "id": "tNehoP8QfCRV"
      }
    },
    {
      "cell_type": "code",
      "source": [
        "print(a[:2])"
      ],
      "metadata": {
        "trusted": true,
        "id": "Osvl0QxJfCRW",
        "colab": {
          "base_uri": "https://localhost:8080/"
        },
        "outputId": "0812acd3-ae20-4566-c973-15c25a2483fb"
      },
      "outputs": [
        {
          "output_type": "stream",
          "name": "stdout",
          "text": [
            "[1 2]\n"
          ]
        }
      ],
      "execution_count": null
    },
    {
      "cell_type": "markdown",
      "source": [
        "If we don't pass end it considers till the length of array.  [start:]"
      ],
      "metadata": {
        "id": "0A89sWMXfCRY"
      }
    },
    {
      "cell_type": "code",
      "source": [
        "print(a[1:])"
      ],
      "metadata": {
        "trusted": true,
        "id": "NShZysHQfCRY",
        "colab": {
          "base_uri": "https://localhost:8080/"
        },
        "outputId": "819b2a84-81e1-4fd3-b512-5016de5c4d47"
      },
      "outputs": [
        {
          "output_type": "stream",
          "name": "stdout",
          "text": [
            "[2 3 4 5 6]\n"
          ]
        }
      ],
      "execution_count": null
    },
    {
      "cell_type": "markdown",
      "source": [
        "### Accessing different elements of a Numpy Array\n",
        "\n",
        "We simply use the square brackets and the indices corresponding to the element we would like:\n",
        "\n",
        "- 1D array : arr[index]"
      ],
      "metadata": {
        "id": "fG06RCvDfCRZ"
      }
    },
    {
      "cell_type": "code",
      "source": [
        "print(a[1])"
      ],
      "metadata": {
        "trusted": true,
        "id": "eS3CwE3UfCRZ",
        "colab": {
          "base_uri": "https://localhost:8080/"
        },
        "outputId": "f01c9782-3fad-476e-90f4-c60329d72069"
      },
      "outputs": [
        {
          "output_type": "stream",
          "name": "stdout",
          "text": [
            "2\n"
          ]
        }
      ],
      "execution_count": null
    },
    {
      "cell_type": "markdown",
      "source": [
        "- 2D array : arr[row, col]"
      ],
      "metadata": {
        "id": "K7Vxyi__fCRa"
      }
    },
    {
      "cell_type": "code",
      "source": [
        "print(b[0,1])"
      ],
      "metadata": {
        "trusted": true,
        "id": "5dDnHjHVfCRa",
        "colab": {
          "base_uri": "https://localhost:8080/"
        },
        "outputId": "9ecc8876-515a-4295-ea21-62b9bed74996"
      },
      "outputs": [
        {
          "output_type": "stream",
          "name": "stdout",
          "text": [
            "56\n"
          ]
        }
      ],
      "execution_count": null
    },
    {
      "cell_type": "markdown",
      "source": [
        "- 2D array : arr[row][col]"
      ],
      "metadata": {
        "id": "KV1sB_gHfCRa"
      }
    },
    {
      "cell_type": "code",
      "source": [
        "b[1][2]"
      ],
      "metadata": {
        "trusted": true,
        "id": "pi-CJltSfCRb",
        "colab": {
          "base_uri": "https://localhost:8080/"
        },
        "outputId": "3e7510dd-50a9-4278-b880-83e705a20074"
      },
      "outputs": [
        {
          "output_type": "execute_result",
          "data": {
            "text/plain": [
              "6"
            ]
          },
          "metadata": {},
          "execution_count": 30
        }
      ],
      "execution_count": null
    },
    {
      "cell_type": "markdown",
      "source": [
        "Slicing X Accessing"
      ],
      "metadata": {
        "id": "kut3wzxgfCRb"
      }
    },
    {
      "cell_type": "code",
      "source": [
        "print(b[2:][:2])"
      ],
      "metadata": {
        "trusted": true,
        "id": "SDYwZ2SJfCRc",
        "colab": {
          "base_uri": "https://localhost:8080/"
        },
        "outputId": "8b7f132e-cf93-4c87-8d5e-386d1141b710"
      },
      "outputs": [
        {
          "output_type": "stream",
          "name": "stdout",
          "text": [
            "[]\n"
          ]
        }
      ],
      "execution_count": null
    },
    {
      "cell_type": "code",
      "source": [
        "print(b[:2][:2])"
      ],
      "metadata": {
        "trusted": true,
        "id": "4FXqOuwgfCRc",
        "colab": {
          "base_uri": "https://localhost:8080/"
        },
        "outputId": "d46d5f6a-fc8b-4bfc-d9d0-5129a4040aa5"
      },
      "outputs": [
        {
          "output_type": "stream",
          "name": "stdout",
          "text": [
            "[[ 7 56  7  9]\n",
            " [87  8  6  9]]\n"
          ]
        }
      ],
      "execution_count": null
    },
    {
      "cell_type": "code",
      "source": [
        "print(b[:1][:2])"
      ],
      "metadata": {
        "trusted": true,
        "id": "-B5b2TpkfCRd",
        "colab": {
          "base_uri": "https://localhost:8080/"
        },
        "outputId": "16c2726e-7a94-445c-be5c-0f5040b58c62"
      },
      "outputs": [
        {
          "output_type": "stream",
          "name": "stdout",
          "text": [
            "[[ 7 56  7  9]]\n"
          ]
        }
      ],
      "execution_count": null
    },
    {
      "cell_type": "markdown",
      "source": [
        "## Numpy Array Operations\n",
        "\n",
        "You could use arithmetic operators directly between NumPy arrays"
      ],
      "metadata": {
        "id": "bRx8fpgSfCRd"
      }
    },
    {
      "cell_type": "code",
      "source": [
        "b*2"
      ],
      "metadata": {
        "trusted": true,
        "id": "7hYtwWRefCRe",
        "colab": {
          "base_uri": "https://localhost:8080/"
        },
        "outputId": "6a8ec68f-d363-4ead-85f8-821185bc94bb"
      },
      "outputs": [
        {
          "output_type": "execute_result",
          "data": {
            "text/plain": [
              "array([[ 14, 112,  14,  18],\n",
              "       [174,  16,  12,  18]])"
            ]
          },
          "metadata": {},
          "execution_count": 36
        }
      ],
      "execution_count": null
    },
    {
      "cell_type": "code",
      "source": [
        "b/2"
      ],
      "metadata": {
        "trusted": true,
        "id": "7OeUPiYrfCRe",
        "colab": {
          "base_uri": "https://localhost:8080/"
        },
        "outputId": "376b1f09-4234-4150-911c-2375f8278311"
      },
      "outputs": [
        {
          "output_type": "execute_result",
          "data": {
            "text/plain": [
              "array([[ 3.5, 28. ,  3.5,  4.5],\n",
              "       [43.5,  4. ,  3. ,  4.5]])"
            ]
          },
          "metadata": {},
          "execution_count": 37
        }
      ],
      "execution_count": null
    },
    {
      "cell_type": "code",
      "source": [
        "b*3.14"
      ],
      "metadata": {
        "trusted": true,
        "id": "AcxSq_FzfCRe",
        "colab": {
          "base_uri": "https://localhost:8080/"
        },
        "outputId": "14cdea1c-9a8a-45e6-c18b-0ecb4063dad9"
      },
      "outputs": [
        {
          "output_type": "execute_result",
          "data": {
            "text/plain": [
              "array([[ 21.98, 175.84,  21.98,  28.26],\n",
              "       [273.18,  25.12,  18.84,  28.26]])"
            ]
          },
          "metadata": {},
          "execution_count": 38
        }
      ],
      "execution_count": null
    },
    {
      "cell_type": "code",
      "source": [
        "b/len(b)"
      ],
      "metadata": {
        "trusted": true,
        "id": "bHHUQSEGfCRf",
        "colab": {
          "base_uri": "https://localhost:8080/"
        },
        "outputId": "64283ffa-cc41-440b-9dbc-2976741bd3c7"
      },
      "outputs": [
        {
          "output_type": "execute_result",
          "data": {
            "text/plain": [
              "array([[ 3.5, 28. ,  3.5,  4.5],\n",
              "       [43.5,  4. ,  3. ,  4.5]])"
            ]
          },
          "metadata": {},
          "execution_count": 39
        }
      ],
      "execution_count": null
    },
    {
      "cell_type": "code",
      "source": [
        "b+30"
      ],
      "metadata": {
        "trusted": true,
        "id": "V3r-OlVCfCRh",
        "colab": {
          "base_uri": "https://localhost:8080/"
        },
        "outputId": "5d935c62-0274-47f3-a5d5-ab205d926f2c"
      },
      "outputs": [
        {
          "output_type": "execute_result",
          "data": {
            "text/plain": [
              "array([[ 37,  86,  37,  39],\n",
              "       [117,  38,  36,  39]])"
            ]
          },
          "metadata": {},
          "execution_count": 41
        }
      ],
      "execution_count": null
    },
    {
      "cell_type": "code",
      "source": [
        "b-40"
      ],
      "metadata": {
        "trusted": true,
        "id": "DydPS8EAfCRi",
        "colab": {
          "base_uri": "https://localhost:8080/"
        },
        "outputId": "6baba0f9-b42d-4df6-ba15-f8343812ddea"
      },
      "outputs": [
        {
          "output_type": "execute_result",
          "data": {
            "text/plain": [
              "array([[-33,  16, -33, -31],\n",
              "       [ 47, -32, -34, -31]])"
            ]
          },
          "metadata": {},
          "execution_count": 42
        }
      ],
      "execution_count": null
    },
    {
      "cell_type": "markdown",
      "source": [
        "### Numpy Statistical Functions\n",
        "\n",
        "Create a numpy array"
      ],
      "metadata": {
        "id": "RRY36VVdfCRi"
      }
    },
    {
      "cell_type": "code",
      "source": [
        "my_array = np.array([[5, 8, 9, 3,88,99],sorted([5, 8, 9, 3,88,99]),[5, 8, 9, 3,88,99],sorted([5, 8, 9, 3,88,99])])\n"
      ],
      "metadata": {
        "trusted": true,
        "id": "vQuPGH6DfCRj"
      },
      "outputs": [],
      "execution_count": null
    },
    {
      "cell_type": "markdown",
      "source": [
        "Get the mean of numpy array"
      ],
      "metadata": {
        "id": "UWXiZqqefCRj"
      }
    },
    {
      "cell_type": "code",
      "source": [
        "np.mean(my_array)"
      ],
      "metadata": {
        "trusted": true,
        "id": "kuw4oQIQfCRj",
        "colab": {
          "base_uri": "https://localhost:8080/"
        },
        "outputId": "7bf5a5d3-7e40-4763-c8b1-5998c76d153d"
      },
      "outputs": [
        {
          "output_type": "execute_result",
          "data": {
            "text/plain": [
              "35.333333333333336"
            ]
          },
          "metadata": {},
          "execution_count": 44
        }
      ],
      "execution_count": null
    },
    {
      "cell_type": "markdown",
      "source": [
        "Get the standard deviation of numpy array"
      ],
      "metadata": {
        "id": "EdouKGDmfCRk"
      }
    },
    {
      "cell_type": "code",
      "source": [
        "np.std(my_array)"
      ],
      "metadata": {
        "trusted": true,
        "id": "asXwk60BfCRk",
        "colab": {
          "base_uri": "https://localhost:8080/"
        },
        "outputId": "83e81f74-13a7-4d9e-de66-976f0fa0c4c9"
      },
      "outputs": [
        {
          "output_type": "execute_result",
          "data": {
            "text/plain": [
              "41.29837231121289"
            ]
          },
          "metadata": {},
          "execution_count": 45
        }
      ],
      "execution_count": null
    },
    {
      "cell_type": "markdown",
      "source": [
        "Get the biggest value in the numpy array"
      ],
      "metadata": {
        "id": "Ew2G4orcfCRk"
      }
    },
    {
      "cell_type": "code",
      "source": [
        "np.max(my_array)"
      ],
      "metadata": {
        "trusted": true,
        "id": "LTv63tZefCRk",
        "colab": {
          "base_uri": "https://localhost:8080/"
        },
        "outputId": "aa4572f9-1416-4b29-d906-a9e6cf2bc7be"
      },
      "outputs": [
        {
          "output_type": "execute_result",
          "data": {
            "text/plain": [
              "99"
            ]
          },
          "metadata": {},
          "execution_count": 46
        }
      ],
      "execution_count": null
    },
    {
      "cell_type": "markdown",
      "source": [
        "Get the smallest value in the numpy array"
      ],
      "metadata": {
        "id": "KKvT8a2afCRl"
      }
    },
    {
      "cell_type": "code",
      "source": [
        "np.min(my_array)"
      ],
      "metadata": {
        "trusted": true,
        "id": "jqxtfJ5wfCRl",
        "colab": {
          "base_uri": "https://localhost:8080/"
        },
        "outputId": "59f26b3b-f420-455c-c2ba-fde906520c5c"
      },
      "outputs": [
        {
          "output_type": "execute_result",
          "data": {
            "text/plain": [
              "3"
            ]
          },
          "metadata": {},
          "execution_count": 47
        }
      ],
      "execution_count": null
    },
    {
      "cell_type": "code",
      "source": [
        "print(np.sort(my_array))"
      ],
      "metadata": {
        "colab": {
          "base_uri": "https://localhost:8080/"
        },
        "id": "LQyr10kAIWo7",
        "outputId": "a92b1465-b0b4-4f9e-9a53-8af00106f0e1"
      },
      "execution_count": null,
      "outputs": [
        {
          "output_type": "stream",
          "name": "stdout",
          "text": [
            "[[ 3  5  8  9 88 99]\n",
            " [ 3  5  8  9 88 99]\n",
            " [ 3  5  8  9 88 99]\n",
            " [ 3  5  8  9 88 99]]\n"
          ]
        }
      ]
    }
  ]
}